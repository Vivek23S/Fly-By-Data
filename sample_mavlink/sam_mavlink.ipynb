{
 "cells": [
  {
   "cell_type": "code",
   "execution_count": null,
   "id": "d3b3ba2f",
   "metadata": {},
   "outputs": [],
   "source": [
    "# ============================================================================\n",
    "# File Name:        sam_mavlink.ipynb\n",
    "# Author:           Vivek23\n",
    "# Description:      sample file for loading mavlink data\n",
    "# ============================================================================\n",
    "\n",
    "import sys\n",
    "sys.path.insert(0,\"E:\\I I T M\\R E S E A R C H\\S C R I P T S\\Fly-By-Data\\main libraries\") # folder which has main loading libs\n",
    "import mavlab"
   ]
  },
  {
   "cell_type": "markdown",
   "id": "2e7aad49",
   "metadata": {},
   "source": [
    "Flight Log Data -> Single '.mat' File"
   ]
  },
  {
   "cell_type": "code",
   "execution_count": null,
   "id": "a7c00e5e",
   "metadata": {},
   "outputs": [],
   "source": [
    "filename = '2024-03-25 16-42-23.bin-792718.mat'\n",
    "\n",
    "# if file is not in the same folder filename should have path as given below:\n",
    "# path      = r'E:\\I I T M\\R E S E A R C H\\S C R I P T S\\Fly-By-Data\\sample_mavlink'\n",
    "# filename  = '//'.join(path.split('\\\\')[:]) + '//' + filename\n",
    "\n",
    "params = ['AHR2','ATT','BARO_0','BAT_0','GPS_0','XKF1_0','RATE','RCOU'] # for more options refer to 'parameters.html'\n",
    "\n",
    "data = mavlab.data(filename,params)\n",
    "time = mavlab.timedata_gpscor(filename,params)\n",
    "\n",
    "roll        = data['XKF1_0']['Roll']\n",
    "pitch       = data['XKF1_0']['Pitch']\n",
    "yaw         = data['XKF1_0']['Yaw']\n",
    "altitude    = -1 * data['XKF1_0']['PD']"
   ]
  },
  {
   "cell_type": "markdown",
   "id": "cbb91343",
   "metadata": {},
   "source": [
    "Flight Log Data -> Multiple '.mat' Files"
   ]
  },
  {
   "cell_type": "code",
   "execution_count": null,
   "id": "4ca095f6",
   "metadata": {},
   "outputs": [],
   "source": [
    "filenames = ['2024-03-25 16-42-23.bin-792718.mat',\n",
    "             '2024-03-27 11-35-14.bin-1011046.mat']\n",
    "\n",
    "# if file is not in the same folder filename should have path as given below:\n",
    "# path      = r'E:\\I I T M\\R E S E A R C H\\S C R I P T S\\Fly-By-Data\\sample_mavlink'\n",
    "# for i in range(len(filenames)):\n",
    "#     filenames[i] = '//'.join(path.split('\\\\')[:]) + '//' + filenames[i]\n",
    "\n",
    "params = ['AHR2','ATT','BARO_0','BAT_0','GPS_0','XKF1_0','RATE','RCOU'] # for more options refer to 'parameters.html'\n",
    "\n",
    "data = mavlab.multiple_data(filenames,params)\n",
    "time = mavlab.multiple_timedata_gpscor(filenames,params)\n",
    "\n",
    "roll_1 = data[0]['XKF1_0']['Roll'] # data from 1st file\n",
    "roll_2 = data[1]['XKF1_0']['Roll'] # data from 2nd file\n",
    "\n",
    "pitch_1 = data[0]['XKF1_0']['Pitch'] # data from 1st file\n",
    "pitch_2 = data[1]['XKF1_0']['Pitch'] # data from 2nd file\n",
    "\n",
    "yaw_1 = data[0]['XKF1_0']['Yaw'] # data from 1st file\n",
    "yaw_2 = data[1]['XKF1_0']['Yaw'] # data from 2nd file\n",
    "\n",
    "altitude_1 = -1 * data[0]['XKF1_0']['PD'] # data from 1st file\n",
    "altitude_2 = -1 * data[1]['XKF1_0']['PD'] # data from 2nd file\n"
   ]
  }
 ],
 "metadata": {
  "kernelspec": {
   "display_name": "Python 3",
   "language": "python",
   "name": "python3"
  },
  "language_info": {
   "codemirror_mode": {
    "name": "ipython",
    "version": 3
   },
   "file_extension": ".py",
   "mimetype": "text/x-python",
   "name": "python",
   "nbconvert_exporter": "python",
   "pygments_lexer": "ipython3",
   "version": "3.11.9"
  }
 },
 "nbformat": 4,
 "nbformat_minor": 5
}
